{
 "cells": [
  {
   "cell_type": "markdown",
   "metadata": {},
   "source": [
    "# Do and don't\n",
    "\n",
    "## Literate computing\n",
    "\n",
    "Jupyter notebook is a open-source tool for creating literate code, visualization and equations.\n",
    "\n",
    "* Installing Jupyter through [Anaconda](https://www.continuum.io/downloads) provides you with a pre-configured and functional environment.\n",
    "* Use variable names that help to understanding their role in the code.\n",
    "* Always prefer supported and official software over external, privative or unusual libraries or package. Scipy, Matplotlib, Sklearn and Numpy coming by default with your Anaconda installation and they must provide enough funcionalities.\n",
    "* Saving and making available partial variables, tables and analytic data will increase reproducibility. As possible, provide raw data and analytic data.\n",
    "* Keep the main code as clean as possible. Maintain a library with functions in your repository and import them along the code. External functions must have clear outputs and perform clear tasks.\n",
    "* Provide detailed description of the program logic, insights and partial conclusions about your code in a natural language. When developing your code, focus on the structure of your final paper.\n",
    "* As possible, leave comments along your code in order to facilitate more specific understanding of variables, functions, operations and code blocks in general.\n",
    "\n",
    "## Workflow\n",
    "\n",
    "Workflow is a component that makes possible put together and present main tasks in a reproducible research. In simple projects, a workflow diagram should be enough to guarantee reproducibility.\n",
    "\n",
    "* A workflow design can help to understanding your project. Try to make each component of your workflow an equivalent script, function or notebook. Tag input and output files.\n",
    "* There are many tools to do your workflow: [Dia](http://dia-installer.de/download/index.html), [Draw - Libre Office](https://www.libreoffice.org/discover/draw/) and [Draw.io](https://www.draw.io/). Between them, Draw.io is recomended since it is online, versatile, ready-to-use and linked with GitHub tool.\n",
    "* Use standardized shapes for blocks: circles and ellipses for input/output blocks, squares and rectangles for scripts, functions or cells of your code, diamond for decision blocks and dotted forms for group main stages of your pipeline.\n",
    "\n",
    "## Repository\n",
    "\n",
    "A repository is a version control system for keep code in a collaborative and versionable fashion. GitHub is a more versatile tool for this task.\n",
    "\n",
    "* For adding license, you must create a new repository. After basic configurations, GitHub allows you to choose a license. A MIT or GNU license could be a good choice since they guarantee reproducibility of your code.\n",
    "* Add a Readme file with a detailed step-by-step recipe for reproducibility of your paper. It is expected that your Readme file includes short description of your paper, environment where executed, a workflow diagram with input and output files tagged, file structure in your repository, the most important part: detailed instructions to execute notebook and contact information.\n",
    "* Managing your Git from terminal is the easiest and most powerfull way. Especially, avoid commit and merge manually.\n",
    "* As possible, leave the folder structure ready to be cloned and executed.\n",
    "\n",
    "## Final paper\n",
    "\n",
    "Latex system is the recommended tool for producing scientific documents. There are various platforms to produce Latex documents; among them, Overleaf platform facilitates Latex usage, online collaborative work and integration with your literate computing tool.\n",
    "\n",
    "* By default, Overleaf comes with a lot of templates. Choose it in accordance with your target publication.\n",
    "* A executable paper should have sections of any paper: Astract, Introduction, Methodology, Results, Discussion, Conclusion and References.\n",
    "* Linking between Overleaf and Jupyter Notebook can be useful for maintain updated final paper with the last results in your notebook. ([How to update Overleaf from a Juypter Notebook](https://medium.com/thoughts-philosophy-writing/how-to-update-overleaf-from-a-juypter-notebook-5469b1405fdc)). This process still needs to add/format some issues to accomplish the final paper: format according with document type, figures, internal and external references, tables, and captions."
   ]
  }
 ],
 "metadata": {
  "kernelspec": {
   "display_name": "Python 2",
   "language": "python",
   "name": "python2"
  },
  "language_info": {
   "codemirror_mode": {
    "name": "ipython",
    "version": 2
   },
   "file_extension": ".py",
   "mimetype": "text/x-python",
   "name": "python",
   "nbconvert_exporter": "python",
   "pygments_lexer": "ipython2",
   "version": "2.7.6"
  }
 },
 "nbformat": 4,
 "nbformat_minor": 0
}
